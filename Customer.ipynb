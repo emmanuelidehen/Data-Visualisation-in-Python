{
  "nbformat": 4,
  "nbformat_minor": 0,
  "metadata": {
    "colab": {
      "name": "Customer.ipynb",
      "provenance": []
    },
    "kernelspec": {
      "name": "python3",
      "display_name": "Python 3"
    }
  },
  "cells": [
    {
      "cell_type": "code",
      "metadata": {
        "id": "frArw52OUzBG"
      },
      "source": [
        "import pandas as pd\n",
        "customer = pd.read_csv('https://query.data.world/s/y9rxL9mGdP6AXPiDaIL4yYm6DsfTV2')\n",
        "\n",
        "\n"
      ],
      "execution_count": 13,
      "outputs": []
    },
    {
      "cell_type": "code",
      "metadata": {
        "id": "70wUldQBU9KU"
      },
      "source": [
        "customer['Cust_id'] = customer['Cust_id'].map(lambda x: x.lstrip('Cust_'))"
      ],
      "execution_count": 15,
      "outputs": []
    },
    {
      "cell_type": "code",
      "metadata": {
        "id": "1JtD1-AfbAIK",
        "outputId": "50cd6b5f-56d7-439b-8a53-120147fec3cd",
        "colab": {
          "base_uri": "https://localhost:8080/",
          "height": 204
        }
      },
      "source": [
        "customer.head()"
      ],
      "execution_count": 16,
      "outputs": [
        {
          "output_type": "execute_result",
          "data": {
            "text/html": [
              "<div>\n",
              "<style scoped>\n",
              "    .dataframe tbody tr th:only-of-type {\n",
              "        vertical-align: middle;\n",
              "    }\n",
              "\n",
              "    .dataframe tbody tr th {\n",
              "        vertical-align: top;\n",
              "    }\n",
              "\n",
              "    .dataframe thead th {\n",
              "        text-align: right;\n",
              "    }\n",
              "</style>\n",
              "<table border=\"1\" class=\"dataframe\">\n",
              "  <thead>\n",
              "    <tr style=\"text-align: right;\">\n",
              "      <th></th>\n",
              "      <th>Customer_Name</th>\n",
              "      <th>Province</th>\n",
              "      <th>Region</th>\n",
              "      <th>Customer_Segment</th>\n",
              "      <th>Cust_id</th>\n",
              "    </tr>\n",
              "  </thead>\n",
              "  <tbody>\n",
              "    <tr>\n",
              "      <th>0</th>\n",
              "      <td>MUHAMMED MACINTYRE</td>\n",
              "      <td>NUNAVUT</td>\n",
              "      <td>NUNAVUT</td>\n",
              "      <td>SMALL BUSINESS</td>\n",
              "      <td>1</td>\n",
              "    </tr>\n",
              "    <tr>\n",
              "      <th>1</th>\n",
              "      <td>BARRY FRENCH</td>\n",
              "      <td>NUNAVUT</td>\n",
              "      <td>NUNAVUT</td>\n",
              "      <td>CONSUMER</td>\n",
              "      <td>2</td>\n",
              "    </tr>\n",
              "    <tr>\n",
              "      <th>2</th>\n",
              "      <td>CLAY ROZENDAL</td>\n",
              "      <td>NUNAVUT</td>\n",
              "      <td>NUNAVUT</td>\n",
              "      <td>CORPORATE</td>\n",
              "      <td>3</td>\n",
              "    </tr>\n",
              "    <tr>\n",
              "      <th>3</th>\n",
              "      <td>CARLOS SOLTERO</td>\n",
              "      <td>NUNAVUT</td>\n",
              "      <td>NUNAVUT</td>\n",
              "      <td>CONSUMER</td>\n",
              "      <td>4</td>\n",
              "    </tr>\n",
              "    <tr>\n",
              "      <th>4</th>\n",
              "      <td>CARL JACKSON</td>\n",
              "      <td>NUNAVUT</td>\n",
              "      <td>NUNAVUT</td>\n",
              "      <td>CORPORATE</td>\n",
              "      <td>5</td>\n",
              "    </tr>\n",
              "  </tbody>\n",
              "</table>\n",
              "</div>"
            ],
            "text/plain": [
              "        Customer_Name Province   Region Customer_Segment Cust_id\n",
              "0  MUHAMMED MACINTYRE  NUNAVUT  NUNAVUT   SMALL BUSINESS       1\n",
              "1        BARRY FRENCH  NUNAVUT  NUNAVUT         CONSUMER       2\n",
              "2       CLAY ROZENDAL  NUNAVUT  NUNAVUT        CORPORATE       3\n",
              "3      CARLOS SOLTERO  NUNAVUT  NUNAVUT         CONSUMER       4\n",
              "4        CARL JACKSON  NUNAVUT  NUNAVUT        CORPORATE       5"
            ]
          },
          "metadata": {
            "tags": []
          },
          "execution_count": 16
        }
      ]
    },
    {
      "cell_type": "code",
      "metadata": {
        "id": "Vv4nalI-bl1r"
      },
      "source": [
        ""
      ],
      "execution_count": null,
      "outputs": []
    }
  ]
}