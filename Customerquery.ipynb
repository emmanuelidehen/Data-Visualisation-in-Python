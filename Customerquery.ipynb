{
  "nbformat": 4,
  "nbformat_minor": 0,
  "metadata": {
    "colab": {
      "name": "Customerquery.ipynb",
      "provenance": [],
      "collapsed_sections": []
    },
    "kernelspec": {
      "name": "python3",
      "display_name": "Python 3"
    }
  },
  "cells": [
    {
      "cell_type": "code",
      "metadata": {
        "id": "fVHqo0FH5Xw5"
      },
      "source": [
        "import pandas as pd\n",
        "import numpy as np\n",
        "\n",
        "customer = pd.read_csv('https://query.data.world/s/y9rxL9mGdP6AXPiDaIL4yYm6DsfTV2')\n",
        "\n",
        "\n"
      ],
      "execution_count": 2,
      "outputs": []
    },
    {
      "cell_type": "code",
      "metadata": {
        "id": "ZIGRZo2oGiRa",
        "outputId": "a5e0d1e0-0a78-4112-a763-2324cd563fcd",
        "colab": {
          "base_uri": "https://localhost:8080/",
          "height": 204
        }
      },
      "source": [
        "customer.head()"
      ],
      "execution_count": 48,
      "outputs": [
        {
          "output_type": "execute_result",
          "data": {
            "text/html": [
              "<div>\n",
              "<style scoped>\n",
              "    .dataframe tbody tr th:only-of-type {\n",
              "        vertical-align: middle;\n",
              "    }\n",
              "\n",
              "    .dataframe tbody tr th {\n",
              "        vertical-align: top;\n",
              "    }\n",
              "\n",
              "    .dataframe thead th {\n",
              "        text-align: right;\n",
              "    }\n",
              "</style>\n",
              "<table border=\"1\" class=\"dataframe\">\n",
              "  <thead>\n",
              "    <tr style=\"text-align: right;\">\n",
              "      <th></th>\n",
              "      <th>Customer_Name</th>\n",
              "      <th>Province</th>\n",
              "      <th>Region</th>\n",
              "      <th>Customer_Segment</th>\n",
              "      <th>Cust_id</th>\n",
              "    </tr>\n",
              "  </thead>\n",
              "  <tbody>\n",
              "    <tr>\n",
              "      <th>0</th>\n",
              "      <td>MUHAMMED MACINTYRE</td>\n",
              "      <td>NUNAVUT</td>\n",
              "      <td>NUNAVUT</td>\n",
              "      <td>SMALL BUSINESS</td>\n",
              "      <td>False</td>\n",
              "    </tr>\n",
              "    <tr>\n",
              "      <th>1</th>\n",
              "      <td>BARRY FRENCH</td>\n",
              "      <td>NUNAVUT</td>\n",
              "      <td>NUNAVUT</td>\n",
              "      <td>CONSUMER</td>\n",
              "      <td>True</td>\n",
              "    </tr>\n",
              "    <tr>\n",
              "      <th>2</th>\n",
              "      <td>CLAY ROZENDAL</td>\n",
              "      <td>NUNAVUT</td>\n",
              "      <td>NUNAVUT</td>\n",
              "      <td>CORPORATE</td>\n",
              "      <td>True</td>\n",
              "    </tr>\n",
              "    <tr>\n",
              "      <th>3</th>\n",
              "      <td>CARLOS SOLTERO</td>\n",
              "      <td>NUNAVUT</td>\n",
              "      <td>NUNAVUT</td>\n",
              "      <td>CONSUMER</td>\n",
              "      <td>True</td>\n",
              "    </tr>\n",
              "    <tr>\n",
              "      <th>4</th>\n",
              "      <td>CARL JACKSON</td>\n",
              "      <td>NUNAVUT</td>\n",
              "      <td>NUNAVUT</td>\n",
              "      <td>CORPORATE</td>\n",
              "      <td>True</td>\n",
              "    </tr>\n",
              "  </tbody>\n",
              "</table>\n",
              "</div>"
            ],
            "text/plain": [
              "        Customer_Name Province   Region Customer_Segment  Cust_id\n",
              "0  MUHAMMED MACINTYRE  NUNAVUT  NUNAVUT   SMALL BUSINESS    False\n",
              "1        BARRY FRENCH  NUNAVUT  NUNAVUT         CONSUMER     True\n",
              "2       CLAY ROZENDAL  NUNAVUT  NUNAVUT        CORPORATE     True\n",
              "3      CARLOS SOLTERO  NUNAVUT  NUNAVUT         CONSUMER     True\n",
              "4        CARL JACKSON  NUNAVUT  NUNAVUT        CORPORATE     True"
            ]
          },
          "metadata": {
            "tags": []
          },
          "execution_count": 48
        }
      ]
    },
    {
      "cell_type": "code",
      "metadata": {
        "id": "alptuStI5nHb"
      },
      "source": [
        "customer['Cust_id'] = customer['Cust_id'].duplicated(keep = False)"
      ],
      "execution_count": 50,
      "outputs": []
    },
    {
      "cell_type": "code",
      "metadata": {
        "id": "Ts4kNnoyG5ND",
        "outputId": "ef5b38aa-3c7d-4422-d58d-3ed437323aa3",
        "colab": {
          "base_uri": "https://localhost:8080/",
          "height": 221
        }
      },
      "source": [
        "customer['Cust_id']"
      ],
      "execution_count": 51,
      "outputs": [
        {
          "output_type": "execute_result",
          "data": {
            "text/plain": [
              "0       False\n",
              "1        True\n",
              "2        True\n",
              "3        True\n",
              "4        True\n",
              "        ...  \n",
              "1827     True\n",
              "1828     True\n",
              "1829     True\n",
              "1830     True\n",
              "1831     True\n",
              "Name: Cust_id, Length: 1832, dtype: bool"
            ]
          },
          "metadata": {
            "tags": []
          },
          "execution_count": 51
        }
      ]
    },
    {
      "cell_type": "code",
      "metadata": {
        "id": "sZq_gAoqHi_1"
      },
      "source": [
        ""
      ],
      "execution_count": 40,
      "outputs": []
    },
    {
      "cell_type": "code",
      "metadata": {
        "id": "DB-UXA1UHoBW"
      },
      "source": [
        ""
      ],
      "execution_count": null,
      "outputs": []
    }
  ]
}