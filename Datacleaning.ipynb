{
  "nbformat": 4,
  "nbformat_minor": 0,
  "metadata": {
    "colab": {
      "name": "Datacleaning.ipynb",
      "provenance": [],
      "collapsed_sections": []
    },
    "kernelspec": {
      "name": "python3",
      "display_name": "Python 3"
    },
    "accelerator": "GPU"
  },
  "cells": [
    {
      "cell_type": "code",
      "metadata": {
        "id": "QgUHIgtgMOPF"
      },
      "source": [
        "\n",
        "import numpy as np\n"
      ],
      "execution_count": null,
      "outputs": []
    },
    {
      "cell_type": "code",
      "metadata": {
        "id": "3mRQxlknMX3J",
        "outputId": "6a6b8d56-85f2-480b-a56d-d483bfc5dabd",
        "colab": {
          "base_uri": "https://localhost:8080/",
          "height": 255
        }
      },
      "source": [
        "import pandas as pd\n",
        "marks = pd.read_csv('https://query.data.world/s/HqjNNadqEnwSq1qnoV_JqyRJkc7o6O')\n",
        "\n",
        "print(marks)"
      ],
      "execution_count": null,
      "outputs": [
        {
          "output_type": "stream",
          "text": [
            "    Prefix  Assignment  Tutorial  Midterm  TakeHome  Final\n",
            "0        5       57.14     34.09    64.38     51.48  52.50\n",
            "1        8       95.05    105.49    67.50     99.07  68.33\n",
            "2        8       83.70     83.17    30.00     63.15  48.89\n",
            "3        7       81.22     96.06    49.38    105.93  80.56\n",
            "4        8       91.32     93.64    95.00    107.41  73.89\n",
            "..     ...         ...       ...      ...       ...    ...\n",
            "94       8       96.73    103.71    45.00     93.52  61.94\n",
            "95       7       85.34     80.54    41.25     93.70  39.72\n",
            "96       8       89.94    102.77    87.50     90.74  87.78\n",
            "97       7       95.60     76.13    66.25     99.81  85.56\n",
            "98       8       63.40     97.37    73.12     72.78  77.22\n",
            "\n",
            "[99 rows x 6 columns]\n"
          ],
          "name": "stdout"
        }
      ]
    },
    {
      "cell_type": "code",
      "metadata": {
        "id": "_Wrr5uMbNCKv",
        "outputId": "720d3bed-2d70-40f6-f6e3-319bf093f84a",
        "colab": {
          "base_uri": "https://localhost:8080/",
          "height": 34
        }
      },
      "source": [
        "marks.columns"
      ],
      "execution_count": null,
      "outputs": [
        {
          "output_type": "execute_result",
          "data": {
            "text/plain": [
              "Index(['Prefix', 'Assignment', 'Tutorial', 'Midterm', 'TakeHome', 'Final'], dtype='object')"
            ]
          },
          "metadata": {
            "tags": []
          },
          "execution_count": 4
        }
      ]
    },
    {
      "cell_type": "code",
      "metadata": {
        "id": "MNmw8vkZNSbU",
        "outputId": "200844a3-12d6-42f8-8d8c-e1e969cb31bf",
        "colab": {
          "base_uri": "https://localhost:8080/",
          "height": 514
        }
      },
      "source": [
        "marks.tail(15)"
      ],
      "execution_count": null,
      "outputs": [
        {
          "output_type": "execute_result",
          "data": {
            "text/html": [
              "<div>\n",
              "<style scoped>\n",
              "    .dataframe tbody tr th:only-of-type {\n",
              "        vertical-align: middle;\n",
              "    }\n",
              "\n",
              "    .dataframe tbody tr th {\n",
              "        vertical-align: top;\n",
              "    }\n",
              "\n",
              "    .dataframe thead th {\n",
              "        text-align: right;\n",
              "    }\n",
              "</style>\n",
              "<table border=\"1\" class=\"dataframe\">\n",
              "  <thead>\n",
              "    <tr style=\"text-align: right;\">\n",
              "      <th></th>\n",
              "      <th>Prefix</th>\n",
              "      <th>Assignment</th>\n",
              "      <th>Tutorial</th>\n",
              "      <th>Midterm</th>\n",
              "      <th>TakeHome</th>\n",
              "      <th>Final</th>\n",
              "    </tr>\n",
              "  </thead>\n",
              "  <tbody>\n",
              "    <tr>\n",
              "      <th>84</th>\n",
              "      <td>6</td>\n",
              "      <td>95.60</td>\n",
              "      <td>61.40</td>\n",
              "      <td>64.38</td>\n",
              "      <td>99.81</td>\n",
              "      <td>42.78</td>\n",
              "    </tr>\n",
              "    <tr>\n",
              "      <th>85</th>\n",
              "      <td>4</td>\n",
              "      <td>87.93</td>\n",
              "      <td>99.47</td>\n",
              "      <td>53.12</td>\n",
              "      <td>87.96</td>\n",
              "      <td>61.11</td>\n",
              "    </tr>\n",
              "    <tr>\n",
              "      <th>86</th>\n",
              "      <td>6</td>\n",
              "      <td>98.49</td>\n",
              "      <td>95.43</td>\n",
              "      <td>42.50</td>\n",
              "      <td>24.77</td>\n",
              "      <td>39.44</td>\n",
              "    </tr>\n",
              "    <tr>\n",
              "      <th>87</th>\n",
              "      <td>7</td>\n",
              "      <td>74.35</td>\n",
              "      <td>92.93</td>\n",
              "      <td>86.25</td>\n",
              "      <td>78.70</td>\n",
              "      <td>73.89</td>\n",
              "    </tr>\n",
              "    <tr>\n",
              "      <th>88</th>\n",
              "      <td>7</td>\n",
              "      <td>86.29</td>\n",
              "      <td>88.81</td>\n",
              "      <td>83.12</td>\n",
              "      <td>77.96</td>\n",
              "      <td>75.83</td>\n",
              "    </tr>\n",
              "    <tr>\n",
              "      <th>89</th>\n",
              "      <td>8</td>\n",
              "      <td>97.00</td>\n",
              "      <td>100.52</td>\n",
              "      <td>64.38</td>\n",
              "      <td>90.74</td>\n",
              "      <td>58.61</td>\n",
              "    </tr>\n",
              "    <tr>\n",
              "      <th>90</th>\n",
              "      <td>8</td>\n",
              "      <td>NaN</td>\n",
              "      <td>NaN</td>\n",
              "      <td>NaN</td>\n",
              "      <td>NaN</td>\n",
              "      <td>NaN</td>\n",
              "    </tr>\n",
              "    <tr>\n",
              "      <th>91</th>\n",
              "      <td>8</td>\n",
              "      <td>96.41</td>\n",
              "      <td>103.71</td>\n",
              "      <td>56.25</td>\n",
              "      <td>95.93</td>\n",
              "      <td>66.39</td>\n",
              "    </tr>\n",
              "    <tr>\n",
              "      <th>92</th>\n",
              "      <td>7</td>\n",
              "      <td>95.60</td>\n",
              "      <td>82.28</td>\n",
              "      <td>76.88</td>\n",
              "      <td>108.33</td>\n",
              "      <td>78.33</td>\n",
              "    </tr>\n",
              "    <tr>\n",
              "      <th>93</th>\n",
              "      <td>8</td>\n",
              "      <td>87.52</td>\n",
              "      <td>91.58</td>\n",
              "      <td>56.25</td>\n",
              "      <td>71.85</td>\n",
              "      <td>85.00</td>\n",
              "    </tr>\n",
              "    <tr>\n",
              "      <th>94</th>\n",
              "      <td>8</td>\n",
              "      <td>96.73</td>\n",
              "      <td>103.71</td>\n",
              "      <td>45.00</td>\n",
              "      <td>93.52</td>\n",
              "      <td>61.94</td>\n",
              "    </tr>\n",
              "    <tr>\n",
              "      <th>95</th>\n",
              "      <td>7</td>\n",
              "      <td>85.34</td>\n",
              "      <td>80.54</td>\n",
              "      <td>41.25</td>\n",
              "      <td>93.70</td>\n",
              "      <td>39.72</td>\n",
              "    </tr>\n",
              "    <tr>\n",
              "      <th>96</th>\n",
              "      <td>8</td>\n",
              "      <td>89.94</td>\n",
              "      <td>102.77</td>\n",
              "      <td>87.50</td>\n",
              "      <td>90.74</td>\n",
              "      <td>87.78</td>\n",
              "    </tr>\n",
              "    <tr>\n",
              "      <th>97</th>\n",
              "      <td>7</td>\n",
              "      <td>95.60</td>\n",
              "      <td>76.13</td>\n",
              "      <td>66.25</td>\n",
              "      <td>99.81</td>\n",
              "      <td>85.56</td>\n",
              "    </tr>\n",
              "    <tr>\n",
              "      <th>98</th>\n",
              "      <td>8</td>\n",
              "      <td>63.40</td>\n",
              "      <td>97.37</td>\n",
              "      <td>73.12</td>\n",
              "      <td>72.78</td>\n",
              "      <td>77.22</td>\n",
              "    </tr>\n",
              "  </tbody>\n",
              "</table>\n",
              "</div>"
            ],
            "text/plain": [
              "    Prefix  Assignment  Tutorial  Midterm  TakeHome  Final\n",
              "84       6       95.60     61.40    64.38     99.81  42.78\n",
              "85       4       87.93     99.47    53.12     87.96  61.11\n",
              "86       6       98.49     95.43    42.50     24.77  39.44\n",
              "87       7       74.35     92.93    86.25     78.70  73.89\n",
              "88       7       86.29     88.81    83.12     77.96  75.83\n",
              "89       8       97.00    100.52    64.38     90.74  58.61\n",
              "90       8         NaN       NaN      NaN       NaN    NaN\n",
              "91       8       96.41    103.71    56.25     95.93  66.39\n",
              "92       7       95.60     82.28    76.88    108.33  78.33\n",
              "93       8       87.52     91.58    56.25     71.85  85.00\n",
              "94       8       96.73    103.71    45.00     93.52  61.94\n",
              "95       7       85.34     80.54    41.25     93.70  39.72\n",
              "96       8       89.94    102.77    87.50     90.74  87.78\n",
              "97       7       95.60     76.13    66.25     99.81  85.56\n",
              "98       8       63.40     97.37    73.12     72.78  77.22"
            ]
          },
          "metadata": {
            "tags": []
          },
          "execution_count": 14
        }
      ]
    },
    {
      "cell_type": "code",
      "metadata": {
        "id": "R5pWD1qnG6nX",
        "outputId": "bc13d7b8-a7a7-4b02-b4f5-af4718c4bd7d",
        "colab": {
          "base_uri": "https://localhost:8080/",
          "height": 136
        }
      },
      "source": [
        "marks.isnull().sum()"
      ],
      "execution_count": null,
      "outputs": [
        {
          "output_type": "execute_result",
          "data": {
            "text/plain": [
              "Prefix         0\n",
              "Assignment     2\n",
              "Tutorial      12\n",
              "Midterm       16\n",
              "TakeHome       9\n",
              "Final          5\n",
              "dtype: int64"
            ]
          },
          "metadata": {
            "tags": []
          },
          "execution_count": 8
        }
      ]
    },
    {
      "cell_type": "code",
      "metadata": {
        "id": "DIycY0iQYA6U"
      },
      "source": [
        "marks = marks.dropna(axis=0, thresh=5)\n",
        "\n"
      ],
      "execution_count": null,
      "outputs": []
    },
    {
      "cell_type": "markdown",
      "metadata": {
        "id": "g6xduOugkdvo"
      },
      "source": [
        "The above is to drop any row with missing value up to 5 ."
      ]
    },
    {
      "cell_type": "code",
      "metadata": {
        "id": "0uo_hCU_c6rY",
        "outputId": "8d2f9804-ca2c-4e42-b0f8-5dba217f4aaa",
        "colab": {
          "base_uri": "https://localhost:8080/",
          "height": 136
        }
      },
      "source": [
        "marks.isnull().sum()"
      ],
      "execution_count": null,
      "outputs": [
        {
          "output_type": "execute_result",
          "data": {
            "text/plain": [
              "Prefix        0\n",
              "Assignment    0\n",
              "Tutorial      0\n",
              "Midterm       4\n",
              "TakeHome      1\n",
              "Final         3\n",
              "dtype: int64"
            ]
          },
          "metadata": {
            "tags": []
          },
          "execution_count": 29
        }
      ]
    },
    {
      "cell_type": "code",
      "metadata": {
        "id": "_dQl6VEZd-PG",
        "outputId": "c574169c-6999-4ef1-f2f2-b4decc8b2768",
        "colab": {
          "base_uri": "https://localhost:8080/",
          "height": 34
        }
      },
      "source": [
        "marks.Final.isnull().sum()"
      ],
      "execution_count": null,
      "outputs": [
        {
          "output_type": "execute_result",
          "data": {
            "text/plain": [
              "3"
            ]
          },
          "metadata": {
            "tags": []
          },
          "execution_count": 27
        }
      ]
    },
    {
      "cell_type": "code",
      "metadata": {
        "id": "8LG3lRJWiUEj"
      },
      "source": [
        "marks = marks[marks.isnull().sum(axis=1)<5]"
      ],
      "execution_count": null,
      "outputs": []
    },
    {
      "cell_type": "code",
      "metadata": {
        "id": "dkSstI-7i7US",
        "outputId": "88ba66c9-1e77-4d2b-b5e3-884f1f21e2d6",
        "colab": {
          "base_uri": "https://localhost:8080/",
          "height": 136
        }
      },
      "source": [
        "marks.isnull().sum()"
      ],
      "execution_count": null,
      "outputs": [
        {
          "output_type": "execute_result",
          "data": {
            "text/plain": [
              "Prefix        0\n",
              "Assignment    0\n",
              "Tutorial      0\n",
              "Midterm       4\n",
              "TakeHome      1\n",
              "Final         3\n",
              "dtype: int64"
            ]
          },
          "metadata": {
            "tags": []
          },
          "execution_count": 31
        }
      ]
    },
    {
      "cell_type": "markdown",
      "metadata": {
        "id": "7kpZHTr_kCvb"
      },
      "source": [
        "learning more about missing value, read https://pandas.pydata.org/pandas-docs/stable/user_guide/missing_data.html"
      ]
    },
    {
      "cell_type": "code",
      "metadata": {
        "id": "9s2hLl2Ni9ig",
        "outputId": "f12d914b-dae6-4053-e1b2-9f9986c12ea7",
        "colab": {
          "base_uri": "https://localhost:8080/",
          "height": 136
        }
      },
      "source": [
        "marks.index"
      ],
      "execution_count": 33,
      "outputs": [
        {
          "output_type": "execute_result",
          "data": {
            "text/plain": [
              "Int64Index([ 0,  1,  2,  3,  4,  5,  6,  7,  8,  9, 10, 15, 16, 17, 18, 19, 20,\n",
              "            21, 22, 23, 24, 25, 26, 27, 28, 29, 30, 31, 32, 33, 34, 35, 36, 37,\n",
              "            38, 39, 40, 41, 42, 49, 50, 51, 52, 53, 54, 55, 56, 57, 58, 59, 60,\n",
              "            61, 62, 63, 64, 65, 66, 67, 68, 69, 70, 71, 72, 74, 75, 76, 77, 78,\n",
              "            79, 80, 81, 82, 83, 84, 85, 86, 87, 88, 89, 91, 92, 93, 94, 95, 96,\n",
              "            97, 98],\n",
              "           dtype='int64')"
            ]
          },
          "metadata": {
            "tags": []
          },
          "execution_count": 33
        }
      ]
    },
    {
      "cell_type": "markdown",
      "metadata": {
        "id": "BKcZtVoptW0r"
      },
      "source": [
        "Remove extra characters like such as common prefix/suffix, leading/trailing/multiple spaces, etc. These are irrelevant to analysis.\n",
        "\n",
        "Standardise case: There are various cases that string variables may take, e.g. UPPERCASE, lowercase, Title Case, Sentence case, etc.\n",
        "\n",
        "Standardise format: E.g. 23/10/16 to 2016/10/23, “Modi, Narendra\" to “Narendra Modi\", etc."
      ]
    },
    {
      "cell_type": "markdown",
      "metadata": {
        "id": "6DK8db6AtUc_"
      },
      "source": [
        "You could use this as a checklist for future data cleaning exercises.\n",
        "\n",
        "Standardise units: Ensure all observations under a variable have a common and consistent unit, e.g. convert lbs to kgs, miles/hr to km/hr, etc.\n",
        "\n",
        "Scale values if required:  Make sure the observations under a variable have a common scale\n",
        "\n",
        "Standardise precision for better presentation of data, e.g. 4.5312341 kgs to 4.53 kgs.\n",
        "\n",
        "Remove outliers: Remove high and low values that would disproportionately affect the results of your analysis."
      ]
    }
  ]
}